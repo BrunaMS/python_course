{
 "cells": [
  {
   "cell_type": "code",
   "execution_count": 114,
   "metadata": {},
   "outputs": [],
   "source": "# 11th Class: Writing and reading files\n# Date: 16-02-2020"
  },
  {
   "cell_type": "code",
   "execution_count": 115,
   "metadata": {},
   "outputs": [],
   "source": "# Example of a very used extension: .csv (Comma-Separated Values)\n# Each line is a profile and each comma separates characteristcs from its respective profile"
  },
  {
   "cell_type": "code",
   "execution_count": 116,
   "metadata": {},
   "outputs": [],
   "source": "\narchive = open(\"profiles.csv\", 'r') # r - indicates reading mode"
  },
  {
   "cell_type": "code",
   "execution_count": 117,
   "metadata": {},
   "outputs": [
    {
     "name": "stdout",
     "output_type": "stream",
     "text": "Name,Number,Country,Job,Gender [M/F]\n\n"
    }
   ],
   "source": "line = archive.readline()\nprint line"
  },
  {
   "cell_type": "code",
   "execution_count": 118,
   "metadata": {},
   "outputs": [],
   "source": "# Only to know what we can do with it:\n# dir(archive)"
  },
  {
   "cell_type": "code",
   "execution_count": 119,
   "metadata": {},
   "outputs": [
    {
     "name": "stdout",
     "output_type": "stream",
     "text": "Bruna,000-000,Brazil,Electronic Engineer,F\n\nDaniel,111-111,Canada,Computer Scientist,M\n\nGabriela,222-222,EUA,Software Engineer,F\n\nRaquel,333-333,Japan,Journalist,F\n\n"
    }
   ],
   "source": "for line in archive:\n print line"
  },
  {
   "cell_type": "code",
   "execution_count": 120,
   "metadata": {},
   "outputs": [],
   "source": "# Creating and opening other file:\nnew_file = open(\"new_profiles.csv\", 'w')"
  },
  {
   "cell_type": "code",
   "execution_count": 121,
   "metadata": {},
   "outputs": [],
   "source": "new_file.write('Veronica, 555-555, Israel, Saleswoman, F\\n')"
  },
  {
   "cell_type": "code",
   "execution_count": 122,
   "metadata": {},
   "outputs": [],
   "source": "# Adding the new profile to the old file:\narchive.close()\nnew_file.close()\narchive = open('profiles.csv', 'a+')\narchive.write(\"Veronica, 555-555, Israel, Saleswoman, F\\n\")\n"
  },
  {
   "cell_type": "code",
   "execution_count": 125,
   "metadata": {},
   "outputs": [
    {
     "name": "stdout",
     "output_type": "stream",
     "text": "Bruna,000-000,Brazil,Electronic Engineer,F\n\nDaniel,111-111,Canada,Computer Scientist,M\n\nGabriela,222-222,EUA,Software Engineer,F\n\nRaquel,333-333,Japan,Journalist,F\n\nVeronica, 555-555, Israel, Saleswoman, F\n\n"
    }
   ],
   "source": "archive.close()\narchive = open(\"profiles.csv\", 'r')\nline = archive.readline()\nfor line in archive:\n    print line\n#     print \" --> \" + len(line)\n#     print \"\\n\""
  },
  {
   "cell_type": "code",
   "execution_count": 169,
   "metadata": {},
   "outputs": [
    {
     "data": {
      "text/plain": "['Name,Number,Country,Job,Gender [M/F]\\n',\n 'Bruna,000-000,Brazil,Electronic Engineer,F\\n',\n 'Daniel,111-111,Canada,Computer Scientist,M\\n',\n 'Gabriela,222-222,EUA,Software Engineer,F\\n',\n 'Raquel,333-333,Japan,Journalist,F\\n',\n 'Veronica, 555-555, Israel, Saleswoman, F\\n']"
     },
     "execution_count": 169,
     "metadata": {},
     "output_type": "execute_result"
    }
   ],
   "source": "# Using a more compact form:\narchive.close()\narchive = open(\"profiles.csv\", 'r')\narchive.readlines()"
  },
  {
   "cell_type": "code",
   "execution_count": 182,
   "metadata": {},
   "outputs": [
    {
     "name": "stdout",
     "output_type": "stream",
     "text": "Name,Number,Country,Job,Gender [M/F]\ncolumns: 37\nBruna,000-000,Brazil,Electronic Engineer,F\ncolumns: 43\nDaniel,111-111,Canada,Computer Scientist,M\ncolumns: 43\nGabriela,222-222,EUA,Software Engineer,F\ncolumns: 41\nRaquel,333-333,Japan,Journalist,F\ncolumns: 34\nVeronica, 555-555, Israel, Saleswoman, F\ncolumns: 41\n239\n"
    }
   ],
   "source": "# Other features and discoveries\narchive.close()\narchive = open(\"profiles.csv\", 'r')\nlines = archive.readlines()\n# Accessing each line from its index\ntotal_size = 0\nfor line in range(len(lines)):\n    print str(lines[line]) + \"columns: \" + str(len(lines[line]))\n    total_size += len(lines[line]) \nprint total_size"
  },
  {
   "cell_type": "code",
   "execution_count": 215,
   "metadata": {},
   "outputs": [
    {
     "data": {
      "text/plain": "['Name,Number,Country,Job,Gender [M/F]\\n',\n 'Bruna,000-000,Brazil,Electronic Engineer,F\\n',\n 'Daniel,111-111,Canada,Computer Scientist,M\\n',\n 'Gabriela,222-222,EUA,Software Engineer,F\\n',\n 'Raquel,333-333,Japan,Journalist,F\\n',\n 'Veronica, 555-555, Israel, Saleswoman, F\\n',\n 'Mario, 666-666, Sweden, Computer Technician, M\\n',\n 'Mario, 666-666, Sweden, Computer Technician, M\\n',\n 'Mario, 666-666, Sweden, Computer Technician, M\\n',\n 'Mario, 666-666, Sweden, Computer Technician, M\\n']"
     },
     "execution_count": 215,
     "metadata": {},
     "output_type": "execute_result"
    }
   ],
   "source": "archive.close()\narchive = open(\"profiles.csv\", 'a+') # a -> append; + -> update\n\n# Using the method .seek(position whence)\n# For whence:\n# 0 - absolute file positioning\n# 1 - seek relative to the current position\n# 2 - seek relative to the file's end.\n\n# archive.seek(10, 2)\narchive.write(\"Mario, 666-666, Sweden, Computer Technician, M\\n\")\narchive.close()\narchive = open(\"profiles.csv\", 'r')\narchive.readlines()\n# the seek() doesn't work very well with .csv. To test \n# better this method, use a text file or binary file, for example. "
  },
  {
   "cell_type": "code",
   "execution_count": 220,
   "metadata": {},
   "outputs": [],
   "source": "archive.close()\n# Modes of opening\n# r - Only to read\n# w - Only to write (create a new file or overwrite)\n# x - Only to create a new file (returns error if it already exists)\n# a - Open to write without overwrite (only append)\n# + - Open to update (write and read)\n# xb - (x is any of the previous options) open binary files"
  }
 ],
 "metadata": {
  "kernelspec": {
   "display_name": "Python 2",
   "language": "python",
   "name": "python2"
  },
  "language_info": {
   "codemirror_mode": {
    "name": "ipython",
    "version": 2
   },
   "file_extension": ".py",
   "mimetype": "text/x-python",
   "name": "python",
   "nbconvert_exporter": "python",
   "pygments_lexer": "ipython2",
   "version": "2.7.17"
  }
 },
 "nbformat": 4,
 "nbformat_minor": 4
}
