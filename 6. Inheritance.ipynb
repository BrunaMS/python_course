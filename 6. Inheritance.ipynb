{
 "cells": [
  {
   "cell_type": "code",
   "execution_count": 1,
   "metadata": {},
   "outputs": [],
   "source": "# Inheritance\nfrom models import Profile"
  },
  {
   "cell_type": "code",
   "execution_count": 2,
   "metadata": {},
   "outputs": [],
   "source": "simple = Profile(\"Veronica\", \"555-555\", \"MS\")"
  },
  {
   "cell_type": "code",
   "execution_count": 3,
   "metadata": {},
   "outputs": [],
   "source": "simple.like()\n# simple.get_credits() # This class has no more this method"
  },
  {
   "cell_type": "code",
   "execution_count": 4,
   "metadata": {},
   "outputs": [],
   "source": "# Creating a type to define if the profile is premium or basic\nvip = Profile(\"Daniel\", \"666-6666\", \"TI\")\nvip.like()\n# print vip.get_type() # This class has no more this method\n# print simple.get_type() # This class has no more this method"
  },
  {
   "cell_type": "code",
   "execution_count": 5,
   "metadata": {},
   "outputs": [],
   "source": "# print vip.get_credits() # This class has no more this method\n# print simple.get_credits() # This class has no more this method"
  },
  {
   "cell_type": "code",
   "execution_count": 2,
   "metadata": {},
   "outputs": [],
   "source": "# Now, I created a new class named 'VipProfile'. This class contain\n# the method get_credits, but the other class (Profile) doesn't.\nfrom models import Profile\nfrom models import VipProfile\n# or\n# from models import *"
  },
  {
   "cell_type": "code",
   "execution_count": 7,
   "metadata": {},
   "outputs": [],
   "source": "vip = VipProfile(\"Daniel\", \"666-6666\", \"TI\")\nsimple = Profile(\"Veronica\", \"555-555\", \"MS\")"
  },
  {
   "cell_type": "code",
   "execution_count": 10,
   "metadata": {},
   "outputs": [
    {
     "name": "stdout",
     "output_type": "stream",
     "text": "20\nThis post has 2 likes :)\n"
    }
   ],
   "source": "simple.like()\nvip.like()\nprint vip.get_credits()\nsimple.print_likes()\n# simple.get_credits() # It must return a error"
  },
  {
   "cell_type": "code",
   "execution_count": 3,
   "metadata": {},
   "outputs": [],
   "source": "# The inheritance exist so that we don't need change something in the 2 \n# classes whenever we want change something in the methods that both has. \n# To acess atributes of the 'father class', we need use 'super(son_class, self).atribute'\n# To acess privated atributes we need do the father class send it to the son class.\n# Here we created a new atribute 'nickname' into the class VipProfile \nvip = VipProfile(\"Daniel\", \"666-6666\", \"TI\", 'Dan')\nsimple = Profile(\"Veronica\", \"555-555\", \"MS\")"
  },
  {
   "cell_type": "code",
   "execution_count": 5,
   "metadata": {},
   "outputs": [
    {
     "name": "stdout",
     "output_type": "stream",
     "text": "20\nThis post has 2 likes :)\nDan\n"
    }
   ],
   "source": "simple.like()\nvip.like()\nprint vip.get_credits()\nsimple.print_likes()\nprint vip.nickname"
  },
  {
   "cell_type": "code",
   "execution_count": null,
   "metadata": {},
   "outputs": [],
   "source": ""
  }
 ],
 "metadata": {
  "kernelspec": {
   "display_name": "Python 2",
   "language": "python",
   "name": "python2"
  },
  "language_info": {
   "codemirror_mode": {
    "name": "ipython",
    "version": 2
   },
   "file_extension": ".py",
   "mimetype": "text/x-python",
   "name": "python",
   "nbconvert_exporter": "python",
   "pygments_lexer": "ipython2",
   "version": "2.7.17"
  }
 },
 "nbformat": 4,
 "nbformat_minor": 4
}
