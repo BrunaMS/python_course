{
 "cells": [
  {
   "cell_type": "code",
   "execution_count": 44,
   "metadata": {},
   "outputs": [],
   "source": "# 12th Class - Static Methods\n# Date:16-02-2020"
  },
  {
   "cell_type": "code",
   "execution_count": 45,
   "metadata": {},
   "outputs": [],
   "source": "from models import *\nprofiles = []\nprofile = Profile(name=\"Adrianne\", number='888-888', company='AnyTech')\narchive = open('profiles.csv', 'r')"
  },
  {
   "cell_type": "code",
   "execution_count": 49,
   "metadata": {},
   "outputs": [
    {
     "name": "stdout",
     "output_type": "stream",
     "text": "Name,Number,Company\n\nBruna,000-000, MyTechMed\n\nDaniel,111-111, CS Inc\n\nGabriela,222-222,IBMist forever\n\nRaquel,333-333,News everyDay\n\nVeronica, 555-555, Turism company\n\nMario, 666-666, ToolsAndToys\n\nAdrianne, 888-888, AnyTech\n\n"
    }
   ],
   "source": "# line = archive.readline()\narchive.seek(0,0)\nfor lines in archive:\n    print lines\n    values = lines.split(',')"
  },
  {
   "cell_type": "code",
   "execution_count": 53,
   "metadata": {},
   "outputs": [],
   "source": "archive.close()\narchive = open('profiles.csv', 'a+')\narchive.seek(0,2)\narchive.write(profile.name + ', ' + str(profile.number) + ', ' + profile.company + '\\n')\narchive.close()    "
  },
  {
   "cell_type": "code",
   "execution_count": 55,
   "metadata": {},
   "outputs": [
    {
     "name": "stdout",
     "output_type": "stream",
     "text": "Adrianne\n 888-888\n AnyTech\n\n"
    }
   ],
   "source": "# Making the opposite way\nprofile = Profile(values[0], values[1], values[2])\nprint profile.name\nprint profile.number\nprint profile.company\n# Here we take the profile back from the file to the object"
  },
  {
   "cell_type": "code",
   "execution_count": 64,
   "metadata": {},
   "outputs": [],
   "source": "# Reading more profiles:\nidx = 0;\nprofile = {}\narchive = open(\"profiles.csv\", 'r')\nfor line in archive:\n    values = line.split(',')\n    Profile(*values)\narchive.close()"
  },
  {
   "cell_type": "code",
   "execution_count": 16,
   "metadata": {},
   "outputs": [
    {
     "name": "stdout",
     "output_type": "stream",
     "text": " AnyTech\n\nDaniel\n222-222\n"
    }
   ],
   "source": "# Now, we'll test the new method created to make it.\nfrom models import Profile\nprofiles = Profile.read_profiles_arch(\"profiles.csv\")\nprint profiles[7].company\nprint profiles[2].name\nprint profiles[3].number"
  },
  {
   "cell_type": "code",
   "execution_count": 1,
   "metadata": {},
   "outputs": [
    {
     "data": {
      "text/plain": "models.Profile"
     },
     "execution_count": 1,
     "metadata": {},
     "output_type": "execute_result"
    }
   ],
   "source": "# Creating a VIP profile\n# Here, we have to obtain a profile of the type VipProfile\nfrom models import Profile, VipProfile\nprofiles = VipProfile.read_profiles_arch(\"profiles.csv\")\ntype(profiles[0])\n# This result (type models.profile) show that we need to improve our solution\n# To resolve, we'll change @staticmethod to @classmethod, \n# sending the class of the object too."
  },
  {
   "cell_type": "code",
   "execution_count": 1,
   "metadata": {},
   "outputs": [
    {
     "data": {
      "text/plain": "models.VipProfile"
     },
     "execution_count": 1,
     "metadata": {},
     "output_type": "execute_result"
    }
   ],
   "source": "# With the change made.\nfrom models import Profile, VipProfile\nprofiles = VipProfile.read_profiles_arch(\"profiles.csv\")\ntype(profiles[0])"
  }
 ],
 "metadata": {
  "kernelspec": {
   "display_name": "Python 2",
   "language": "python",
   "name": "python2"
  },
  "language_info": {
   "codemirror_mode": {
    "name": "ipython",
    "version": 2
   },
   "file_extension": ".py",
   "mimetype": "text/x-python",
   "name": "python",
   "nbconvert_exporter": "python",
   "pygments_lexer": "ipython2",
   "version": "2.7.17"
  }
 },
 "nbformat": 4,
 "nbformat_minor": 4
}
