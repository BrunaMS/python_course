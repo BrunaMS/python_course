{
 "cells": [
  {
   "cell_type": "code",
   "execution_count": 1,
   "metadata": {},
   "outputs": [],
   "source": "# Object-Oriented Programming Fundamentals"
  },
  {
   "cell_type": "code",
   "execution_count": 2,
   "metadata": {},
   "outputs": [],
   "source": "# Using the simplest method\nprofile1_name = 'Bruna'\nprofile1_number = '000-000'\nprofile1_company = 'Undefined'\n\nprofile2_name = 'Gabriela'\nprofile2_number = '111-111'\nprofile2_company = 'Undefined'"
  },
  {
   "cell_type": "code",
   "execution_count": 3,
   "metadata": {},
   "outputs": [
    {
     "name": "stdout",
     "output_type": "stream",
     "text": "Raquel\n222-222\n"
    }
   ],
   "source": "# Using dictonary {'key': 'value'}\nprofile = {'name': 'Raquel', 'number': '222-222'}\nprint profile['name']\nprint profile['number']"
  },
  {
   "cell_type": "code",
   "execution_count": 4,
   "metadata": {},
   "outputs": [],
   "source": "# Object-Oriented Programming\n# Datas and behavior \"walk\" together\n# Classes and methods (like a function/def)\n\nfrom models import Profile"
  },
  {
   "cell_type": "code",
   "execution_count": 5,
   "metadata": {},
   "outputs": [],
   "source": "profile1 = Profile('Bruna', '111-111', 'Undefined')\nprofile2 = Profile('Gabriela', '222-222', 'Undefined')"
  },
  {
   "cell_type": "code",
   "execution_count": 6,
   "metadata": {},
   "outputs": [
    {
     "name": "stdout",
     "output_type": "stream",
     "text": "Bruna\n111-111\nUndefined\n \nGabriela\n222-222\nUndefined\n"
    }
   ],
   "source": "print profile1.name\nprint profile1.number\nprint profile1.company\nprint ' '\nprint profile2.name\nprint profile2.number\nprint profile2.company"
  },
  {
   "cell_type": "code",
   "execution_count": 7,
   "metadata": {},
   "outputs": [
    {
     "name": "stdout",
     "output_type": "stream",
     "text": "Name: Bruna, Number: 111-111, Company: Undefined\n"
    }
   ],
   "source": "# Using a method created to print the values:\n# I'm having a problem to use this instace but in the python console it's working normally\nprofile1.print_profile()"
  },
  {
   "cell_type": "code",
   "execution_count": 8,
   "metadata": {},
   "outputs": [],
   "source": "# Python let we pass named parameters:\nprofile3 = Profile(company='Google', name='Girl', number='333-333')"
  },
  {
   "cell_type": "code",
   "execution_count": 9,
   "metadata": {},
   "outputs": [
    {
     "name": "stdout",
     "output_type": "stream",
     "text": "333-333\nGoogle\nGirl\n"
    }
   ],
   "source": "print profile3.number\nprint profile3.company\nprint profile3.name\n"
  },
  {
   "cell_type": "code",
   "execution_count": 10,
   "metadata": {},
   "outputs": [
    {
     "data": {
      "text/plain": "'333-333'"
     },
     "execution_count": 10,
     "metadata": {},
     "output_type": "execute_result"
    }
   ],
   "source": "test = profile3\ntest.number"
  },
  {
   "cell_type": "code",
   "execution_count": 11,
   "metadata": {},
   "outputs": [
    {
     "name": "stdout",
     "output_type": "stream",
     "text": "10/02/2020\n"
    }
   ],
   "source": "# Exercise 01\nfrom models import Date\ndate = Date('10', '02', '2020')\ndate.print_date()"
  },
  {
   "cell_type": "code",
   "execution_count": 12,
   "metadata": {},
   "outputs": [
    {
     "name": "stdout",
     "output_type": "stream",
     "text": "Bruna's BMI: 19.4369686873\n"
    }
   ],
   "source": "# Exercise 02\nfrom models import Person\nperson = Person(\"Bruna\", 45.5, 1.53)\nperson.print_bmi()"
  },
  {
   "cell_type": "code",
   "execution_count": null,
   "metadata": {},
   "outputs": [],
   "source": ""
  }
 ],
 "metadata": {
  "kernelspec": {
   "display_name": "Python 2",
   "language": "python",
   "name": "python2"
  },
  "language_info": {
   "codemirror_mode": {
    "name": "ipython",
    "version": 2
   },
   "file_extension": ".py",
   "mimetype": "text/x-python",
   "name": "python",
   "nbconvert_exporter": "python",
   "pygments_lexer": "ipython2",
   "version": "2.7.17"
  }
 },
 "nbformat": 4,
 "nbformat_minor": 4
}
