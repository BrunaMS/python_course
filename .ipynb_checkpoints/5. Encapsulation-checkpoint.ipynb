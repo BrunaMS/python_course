{
 "cells": [
  {
   "cell_type": "code",
   "execution_count": 1,
   "metadata": {},
   "outputs": [],
   "source": "# Encapsulation"
  },
  {
   "cell_type": "code",
   "execution_count": 1,
   "metadata": {},
   "outputs": [],
   "source": "# Now, we're trying to add the funcionality of see and increment the number of likes into a social network\n# It's into the class Profile, created in the last class\nfrom models import Profile "
  },
  {
   "cell_type": "code",
   "execution_count": 2,
   "metadata": {},
   "outputs": [],
   "source": "profile = Profile(\"Bruna\", \"111-111\", \"UnB\")\n# profile.likes+=1 # profile.likes = profile.likes + 1\n# print profile.likes\n# Defining the method like:\n# profile.like() \n# profile.like()\n# Printing the new value:\n# print profile.likes\n# Here, we have a problem because the variable likes can be used/edited/visualized by anyone.\n# To avoid this problem, we use __ before the variable name (self.__var_name)"
  },
  {
   "cell_type": "code",
   "execution_count": 4,
   "metadata": {},
   "outputs": [
    {
     "name": "stdout",
     "output_type": "stream",
     "text": "This post has 0 likes :)\nThis post has 1 likes :)\n"
    }
   ],
   "source": "profile.print_likes()\nprofile.like()\nprofile.print_likes()"
  },
  {
   "cell_type": "code",
   "execution_count": null,
   "metadata": {},
   "outputs": [],
   "source": ""
  }
 ],
 "metadata": {
  "kernelspec": {
   "display_name": "Python 2",
   "language": "python",
   "name": "python2"
  },
  "language_info": {
   "codemirror_mode": {
    "name": "ipython",
    "version": 2
   },
   "file_extension": ".py",
   "mimetype": "text/x-python",
   "name": "python",
   "nbconvert_exporter": "python",
   "pygments_lexer": "ipython2",
   "version": "2.7.17"
  }
 },
 "nbformat": 4,
 "nbformat_minor": 4
}
