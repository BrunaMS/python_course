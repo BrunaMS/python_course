{
 "cells": [
  {
   "cell_type": "code",
   "execution_count": 10,
   "metadata": {},
   "outputs": [],
   "source": "# Regular expression operations \nimport re"
  },
  {
   "cell_type": "code",
   "execution_count": 11,
   "metadata": {},
   "outputs": [
    {
     "data": {
      "text/plain": "<_sre.SRE_Match at 0x7f9de977c030>"
     },
     "execution_count": 11,
     "metadata": {},
     "output_type": "execute_result"
    }
   ],
   "source": "# result is an object (data + behavior)\nresult = re.match('Py', 'Python')\nresult"
  },
  {
   "cell_type": "code",
   "execution_count": 12,
   "metadata": {},
   "outputs": [
    {
     "data": {
      "text/plain": "'Py'"
     },
     "execution_count": 12,
     "metadata": {},
     "output_type": "execute_result"
    }
   ],
   "source": "result.group()"
  },
  {
   "cell_type": "code",
   "execution_count": 19,
   "metadata": {},
   "outputs": [],
   "source": "result = re.match('py', 'Python')\nresult\n"
  },
  {
   "cell_type": "code",
   "execution_count": 21,
   "metadata": {},
   "outputs": [
    {
     "ename": "AttributeError",
     "evalue": "'NoneType' object has no attribute 'group'",
     "output_type": "error",
     "traceback": [
      "\u001b[0;31m---------------------------------------------------------------------------\u001b[0m",
      "\u001b[0;31mAttributeError\u001b[0m                            Traceback (most recent call last)",
      "\u001b[0;32m<ipython-input-21-99e0ad2b6c52>\u001b[0m in \u001b[0;36m<module>\u001b[0;34m()\u001b[0m\n\u001b[1;32m      2\u001b[0m \u001b[0;31m# the term, group return an object with 'noneType'\u001b[0m\u001b[0;34m\u001b[0m\u001b[0;34m\u001b[0m\u001b[0m\n\u001b[1;32m      3\u001b[0m \u001b[0;31m# In this case, this function is case sensitive.\u001b[0m\u001b[0;34m\u001b[0m\u001b[0;34m\u001b[0m\u001b[0m\n\u001b[0;32m----> 4\u001b[0;31m \u001b[0mresult\u001b[0m\u001b[0;34m.\u001b[0m\u001b[0mgroup\u001b[0m\u001b[0;34m(\u001b[0m\u001b[0;34m)\u001b[0m\u001b[0;34m\u001b[0m\u001b[0m\n\u001b[0m",
      "\u001b[0;31mAttributeError\u001b[0m: 'NoneType' object has no attribute 'group'"
     ]
    }
   ],
   "source": "# When the code doesn't find anything corresponding to \n# the term, group return an object with 'noneType'\n# In this case, this function is case sensitive.\nresult.group()"
  },
  {
   "cell_type": "code",
   "execution_count": 24,
   "metadata": {},
   "outputs": [
    {
     "data": {
      "text/plain": "'Py'"
     },
     "execution_count": 24,
     "metadata": {},
     "output_type": "execute_result"
    }
   ],
   "source": "# It doesn't see if the 'p' is lowercase or uppercase\nresult = re.match('[pP]y','Python')\nresult.group()"
  },
  {
   "cell_type": "code",
   "execution_count": 26,
   "metadata": {},
   "outputs": [
    {
     "data": {
      "text/plain": "'Py'"
     },
     "execution_count": 26,
     "metadata": {},
     "output_type": "execute_result"
    }
   ],
   "source": "# It find all words with 'y'\n# Captch only the first result (Python in this case)\nresult = re.match('[A-Za-z]y','Python ou Jupyter')\nresult.group()"
  },
  {
   "cell_type": "code",
   "execution_count": 29,
   "metadata": {},
   "outputs": [
    {
     "data": {
      "text/plain": "['Py', 'py']"
     },
     "execution_count": 29,
     "metadata": {},
     "output_type": "execute_result"
    }
   ],
   "source": "# It find all words with 'y'\n# Captch all results\n# Note: Don't use '.group()' in this case \nresult = re.findall('[A-Za-z]y','Python ou Jupyter')\nresult"
  },
  {
   "cell_type": "code",
   "execution_count": 36,
   "metadata": {},
   "outputs": [
    {
     "data": {
      "text/plain": "['pyter', 'pypy']"
     },
     "execution_count": 36,
     "metadata": {},
     "output_type": "execute_result"
    }
   ],
   "source": "# It find all words with 'y'\n# Captch all results and the complete word.\n# Note: Don't use '.group()' in this case \n# re.finsdall return a list\nresult = re.findall('[A-Za-z]y[A-Za-z]+','2ython ou Jupyter or pypy')\nresult"
  },
  {
   "cell_type": "code",
   "execution_count": 40,
   "metadata": {},
   "outputs": [
    {
     "data": {
      "text/plain": "['2ython', 'pyter', 'pypy']"
     },
     "execution_count": 40,
     "metadata": {},
     "output_type": "execute_result"
    }
   ],
   "source": "# To find numbers too we can use '0-9' in the end or\n# '\\wy\\w+'\nresult = re.findall('[A-Za-z0-9]y[A-Za-z0-9]+','P2ython ou Jupyter or pypy')\nresult"
  },
  {
   "cell_type": "code",
   "execution_count": 88,
   "metadata": {},
   "outputs": [
    {
     "data": {
      "text/plain": "[]"
     },
     "execution_count": 88,
     "metadata": {},
     "output_type": "execute_result"
    }
   ],
   "source": "# Meanings: \n# '\\w' - Stores the next and the previous letters \n# '\\w+'- Stores the full word (with numbers)\n# '\\d' - Stores words that contain only numbers\n# '\\s' - Stores the spaces \n# '.'  - Stores any character\n# '?'  - Imply that the previous symbol type is optional\n# 'r'  - Raw string. Used to declare regular expressions\n# '{number}'   - Indicate the quantity of numbers the word must have\n# '{number1, number2}' - Stores only words with a quantity od letters between number1 and number 2\n# '^<letter>/<symbol>/<number>' - indicate with what letter/symbol/number the line must begin\n# '<letter>/<symbol>/<number>$' - indicate with what letter/symbol/number the line must finish.\n# Examples: \nresult = re.findall('\\dy\\d','Python3 ou Jupyter or pypy or Python2 MatLab')\nresult\n"
  },
  {
   "cell_type": "code",
   "execution_count": 89,
   "metadata": {},
   "outputs": [
    {
     "data": {
      "text/plain": "['Python3', 'Jupyter', 'pypy', 'Python2']"
     },
     "execution_count": 89,
     "metadata": {},
     "output_type": "execute_result"
    }
   ],
   "source": "result = re.findall('\\w+y\\w+','Python3 ou Jupyter or pypy or Python2 MatLab')\nresult\n"
  },
  {
   "cell_type": "code",
   "execution_count": 90,
   "metadata": {},
   "outputs": [
    {
     "data": {
      "text/plain": "['Python3', 'pyter', 'pypy', 'Python2']"
     },
     "execution_count": 90,
     "metadata": {},
     "output_type": "execute_result"
    }
   ],
   "source": "result = re.findall('\\wy\\w+','Python3 ou Jupyter or pypy or Python2 MatLab')\nresult\n"
  },
  {
   "cell_type": "code",
   "execution_count": 91,
   "metadata": {},
   "outputs": [
    {
     "data": {
      "text/plain": "['Python3', 'Python2']"
     },
     "execution_count": 91,
     "metadata": {},
     "output_type": "execute_result"
    }
   ],
   "source": "result = re.findall('\\w+y\\w+\\d','Python3 ou Jupyter or pypy or Python2 MatLab')\nresult"
  },
  {
   "cell_type": "code",
   "execution_count": 92,
   "metadata": {},
   "outputs": [
    {
     "data": {
      "text/plain": "['Pyt', 'pyt', 'pyp', 'Pyt']"
     },
     "execution_count": 92,
     "metadata": {},
     "output_type": "execute_result"
    }
   ],
   "source": "result = re.findall('\\wy\\w','Python3 ou Jupyter or pypy or Python2 MatLab')\nresult"
  },
  {
   "cell_type": "code",
   "execution_count": 93,
   "metadata": {},
   "outputs": [
    {
     "data": {
      "text/plain": "[' ', ' ', ' ', ' ', ' ', ' ', ' ']"
     },
     "execution_count": 93,
     "metadata": {},
     "output_type": "execute_result"
    }
   ],
   "source": "result = re.findall('\\s','Python3 ou Jupyter or pypy or Python2 MatLab')\nresult"
  },
  {
   "cell_type": "code",
   "execution_count": 103,
   "metadata": {},
   "outputs": [
    {
     "data": {
      "text/plain": "['Python3', 'ou', 'Jupyter', 'or', 'pypy', 'or', 'Python2', 'MatLab']"
     },
     "execution_count": 103,
     "metadata": {},
     "output_type": "execute_result"
    }
   ],
   "source": "result = re.findall(r'[A-Za-z]+\\d?','555 Python3 ou Jupyter or pypy or Python2 MatLab')\nresult"
  },
  {
   "cell_type": "code",
   "execution_count": 104,
   "metadata": {},
   "outputs": [
    {
     "data": {
      "text/plain": "'[A-Z]'"
     },
     "execution_count": 104,
     "metadata": {},
     "output_type": "execute_result"
    }
   ],
   "source": "# raw string - to avoid something of modify the result\nr'[A-Z]'"
  },
  {
   "cell_type": "code",
   "execution_count": 105,
   "metadata": {},
   "outputs": [
    {
     "name": "stdout",
     "output_type": "stream",
     "text": "B-R-A-S-I-L\n"
    }
   ],
   "source": "letras = ['B','R','A','S','I','L']\npais = '-'.join(letras)\nprint pais"
  },
  {
   "cell_type": "code",
   "execution_count": 106,
   "metadata": {},
   "outputs": [
    {
     "data": {
      "text/plain": "'FabioFlavioNico'"
     },
     "execution_count": 106,
     "metadata": {},
     "output_type": "execute_result"
    }
   ],
   "source": "nomes = ['Fabio', 'Flavio','Nico']\nnomes_concatenados = ''.join(nomes)\nnomes_concatenados"
  },
  {
   "cell_type": "code",
   "execution_count": null,
   "metadata": {},
   "outputs": [],
   "source": ""
  }
 ],
 "metadata": {
  "kernelspec": {
   "display_name": "Python 2",
   "language": "python",
   "name": "python2"
  },
  "language_info": {
   "codemirror_mode": {
    "name": "ipython",
    "version": 2
   },
   "file_extension": ".py",
   "mimetype": "text/x-python",
   "name": "python",
   "nbconvert_exporter": "python",
   "pygments_lexer": "ipython2",
   "version": "2.7.17"
  }
 },
 "nbformat": 4,
 "nbformat_minor": 4
}
